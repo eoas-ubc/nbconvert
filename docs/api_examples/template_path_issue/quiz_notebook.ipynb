{
 "cells": [
  {
   "cell_type": "raw",
   "metadata": {
    "ctype": "question",
    "qnum": "1"
   },
   "source": [
    "\\pagestyle{headers}"
   ]
  },
  {
   "cell_type": "markdown",
   "metadata": {
    "ctype": "question",
    "qnum": "1"
   },
   "source": [
    "1.  Suppose we have a one layer atmosphere with ε=1 above a black\n",
    "    surface as in Dessler Fig. 4.6. Does adding a second opaque (ε=1)\n",
    "    layer (Dessler Figure 4.7) increase the greenhouse effect, decrease\n",
    "    the greenhouse effect, or leave the greenhouse effect unchanged?\n",
    "    \n",
    "    A.  increase\n",
    "    \n",
    "    B.  decrease\n",
    "    \n",
    "    C.  no change"
   ]
  },
  {
   "cell_type": "markdown",
   "metadata": {
    "ctype": "question",
    "qnum": "2"
   },
   "source": [
    "2.  Suppose a planet's average surface temperature is about 320 K. In the one-layer\n",
    "    semi-transparent atmosphere shown below (and seen in your reading),\n",
    "    what would the approximate long-wave atmospheric emissivity ε need to be in\n",
    "    order for $T_g$=320 K, if the average shorwave flux was $I_0=400\\ W\\,m^{-2}$. (Hint, look at equations 5-6 in the reading).\n",
    "    \n",
    "    A.  0.54\n",
    "    \n",
    "    B.  0.65\n",
    "    \n",
    "    C.  0.77\n",
    "    \n",
    "    D.  0.88\n",
    "    \n",
    "    E.  0.95"
   ]
  },
  {
   "cell_type": "markdown",
   "metadata": {
    "ctype": "question",
    "qnum": "2"
   },
   "source": [
    "![fig1](media/image1.png)"
   ]
  },
  {
   "cell_type": "raw",
   "metadata": {
    "ctype": "question",
    "lines_to_next_cell": 0,
    "qnum": "3"
   },
   "source": [
    "\\newpage"
   ]
  },
  {
   "cell_type": "markdown",
   "metadata": {
    "ctype": "question",
    "qnum": "3"
   },
   "source": [
    "3. Given a one-layer atmosphere like problem 2, but with $\\epsilon=0.8$, $T_G$=306 K, $T_1$=258 K, $I_0$ = 300 $W\\,m^{-2}$,  calculate the greenouse effect. (choose the closest number)\n",
    " \n",
    "A. -121 $W\\,m^2$\n",
    "\n",
    "B. +121 $W\\,m^2$\n",
    "\n",
    "C. +197 $W\\,m^2$\n",
    "\n",
    "D. +221 $W\\,m^2$\n",
    "\n",
    "E. +324 $W\\,m^2$"
   ]
  },
  {
   "cell_type": "markdown",
   "metadata": {
    "ctype": "question",
    "qnum": "4"
   },
   "source": [
    "4.  According to the figure in Trenberth et al. 2009 below, how big is the Earth's greenhouse effect?\n",
    " \n",
    "A.  85 $W\\,m^{-2}$\n",
    "\n",
    "B. 157 $W\\,m^{-2}$\n",
    "\n",
    "C. 254 $W\\,m^{-2}$\n",
    "\n",
    "D. 285 $W\\,m^{-2}$\n",
    "\n",
    "E. 333 $W\\,m^{-2}$"
   ]
  },
  {
   "cell_type": "markdown",
   "metadata": {
    "ctype": "question",
    "qnum": "3"
   },
   "source": [
    "![fig2](media/image2.png)"
   ]
  }
 ],
 "metadata": {
  "jupytext": {
   "cell_metadata_filter": "all",
   "encoding": "# -*- coding: utf-8 -*-",
   "formats": "ipynb,py:percent",
   "notebook_metadata_filter": "all,-language_info,-toc,-latex_envs"
  },
  "kernelspec": {
   "display_name": "Python 3",
   "language": "python",
   "name": "python3"
  },
  "language_info": {
   "codemirror_mode": {
    "name": "ipython",
    "version": 3
   },
   "file_extension": ".py",
   "mimetype": "text/x-python",
   "name": "python",
   "nbconvert_exporter": "python",
   "pygments_lexer": "ipython3",
   "version": "3.7.6"
  },
  "latex_envs": {
   "LaTeX_envs_menu_present": true,
   "autoclose": false,
   "autocomplete": true,
   "bibliofile": "biblio.bib",
   "cite_by": "apalike",
   "current_citInitial": 1,
   "eqLabelWithNumbers": true,
   "eqNumInitial": 1,
   "hotkeys": {
    "equation": "meta-9"
   },
   "labels_anchors": false,
   "latex_user_defs": false,
   "report_style_numbering": false,
   "user_envs_cfg": false
  },
  "latex_metadata": {
   "chead": "Quiz questions, January 18, 2020",
   "lhead": "E340 Day 5"
  },
  "pdf_metadata": {"text1":"html header success"},
  "toc": {
   "base_numbering": 1,
   "nav_menu": {},
   "number_sections": true,
   "sideBar": true,
   "skip_h1_title": false,
   "title_cell": "Table of Contents",
   "title_sidebar": "Contents",
   "toc_cell": false,
   "toc_position": {},
   "toc_section_display": true,
   "toc_window_display": true
  }
 },
 "nbformat": 4,
 "nbformat_minor": 2
}
